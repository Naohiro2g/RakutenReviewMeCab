{
  "nbformat": 4,
  "nbformat_minor": 0,
  "metadata": {
    "colab": {
      "name": "rakuten_review.ipynb",
      "provenance": [],
      "collapsed_sections": [],
      "toc_visible": true,
      "authorship_tag": "ABX9TyPLEPHzfxm24pVQD5X0t33C",
      "include_colab_link": true
    },
    "kernelspec": {
      "name": "python3",
      "display_name": "Python 3"
    },
    "language_info": {
      "name": "python"
    }
  },
  "cells": [
    {
      "cell_type": "markdown",
      "metadata": {
        "id": "view-in-github",
        "colab_type": "text"
      },
      "source": [
        "<a href=\"https://colab.research.google.com/github/mahiro113/RakutenReview/blob/main/rakuten_review.ipynb\" target=\"_parent\"><img src=\"https://colab.research.google.com/assets/colab-badge.svg\" alt=\"Open In Colab\"/></a>"
      ]
    },
    {
      "cell_type": "markdown",
      "source": [
        "#ColabでMeCabとSeleniumをつかって楽天のレビュー解析"
      ],
      "metadata": {
        "id": "MurfEmOqW-Rw"
      }
    },
    {
      "cell_type": "markdown",
      "source": [
        "## 必要なものをインストール\n"
      ],
      "metadata": {
        "id": "Bh5QGqu_XiPV"
      }
    },
    {
      "cell_type": "code",
      "source": [
        "#mecabのインストールとipadic-neologd辞書の追加\n",
        "!pip install mecab-python3\n",
        "!apt install mecab libmecab-dev git make curl xz-utils file\n",
        "!git clone --depth 1 https://github.com/neologd/mecab-ipadic-neologd.git\n",
        "!echo yes | mecab-ipadic-neologd/bin/install-mecab-ipadic-neologd -n #これの意味あるのかどうか知らん\n",
        "!cp /etc/mecabrc /usr/local/etc/ #指定された場所にmecabrcがないとエラーが出るので追加\n",
        "\n",
        "#seleniumのインストールとクロームドライバーの追加\n",
        "!pip install selenium\n",
        "!apt update\n",
        "!apt install chromium-chromedriver\n",
        "!cp /usr/lib/chromium-browser/chromedriver /usr/bin"
      ],
      "metadata": {
        "id": "SO5E24hq_1K_"
      },
      "execution_count": null,
      "outputs": []
    },
    {
      "cell_type": "code",
      "source": [
        "import MeCab\n",
        "tagger = MeCab.Tagger(\"-d /usr/lib/x86_64-linux-gnu/mecab/dic/mecab-ipadic-neologd\")\n",
        "print(tagger.parse('鬼滅の刃は面白いね'))"
      ],
      "metadata": {
        "colab": {
          "base_uri": "https://localhost:8080/"
        },
        "id": "GUDrpA09_7n4",
        "outputId": "6b6d9700-58bc-444a-bf96-d022bbcffe00"
      },
      "execution_count": null,
      "outputs": [
        {
          "output_type": "stream",
          "name": "stdout",
          "text": [
            "鬼滅の刃\t名詞,固有名詞,一般,*,*,*,鬼滅の刃,キメツノヤイバ,キメツノヤイバ\n",
            "は\t助詞,係助詞,*,*,*,*,は,ハ,ワ\n",
            "面白い\t形容詞,自立,*,*,形容詞・アウオ段,基本形,面白い,オモシロイ,オモシロイ\n",
            "ね\t助詞,終助詞,*,*,*,*,ね,ネ,ネ\n",
            "EOS\n",
            "\n"
          ]
        }
      ]
    },
    {
      "cell_type": "code",
      "source": [
        "tagger.parse('鬼滅の刃は面白いね')"
      ],
      "metadata": {
        "colab": {
          "base_uri": "https://localhost:8080/",
          "height": 54
        },
        "id": "SlHO7PVrEv8q",
        "outputId": "7715e1d9-f98a-46c4-897f-de5fa79473cf"
      },
      "execution_count": null,
      "outputs": [
        {
          "output_type": "execute_result",
          "data": {
            "text/plain": [
              "'鬼滅の刃\\t名詞,固有名詞,一般,*,*,*,鬼滅の刃,キメツノヤイバ,キメツノヤイバ\\nは\\t助詞,係助詞,*,*,*,*,は,ハ,ワ\\n面白い\\t形容詞,自立,*,*,形容詞・アウオ段,基本形,面白い,オモシロイ,オモシロイ\\nね\\t助詞,終助詞,*,*,*,*,ね,ネ,ネ\\nEOS\\n'"
            ],
            "application/vnd.google.colaboratory.intrinsic+json": {
              "type": "string"
            }
          },
          "metadata": {},
          "execution_count": 15
        }
      ]
    },
    {
      "cell_type": "code",
      "source": [
        "from selenium import webdriver\n",
        "options = webdriver.ChromeOptions()\n",
        "options.add_argument('--headless')\n",
        "options.add_argument('--no-sandbox')\n",
        "options.add_argument('--disable-dev-shm-usage')\n",
        "driver = webdriver.Chrome('/usr/bin/chromedriver',options=options)\n",
        "driver.get(\"https://www.rakuten.co.jp/\")\n",
        "print('画面を開きました')"
      ],
      "metadata": {
        "colab": {
          "base_uri": "https://localhost:8080/"
        },
        "id": "XuFHhTymaILx",
        "outputId": "93a40896-42e7-4935-c72c-871743194000"
      },
      "execution_count": null,
      "outputs": [
        {
          "output_type": "stream",
          "name": "stderr",
          "text": [
            "/usr/local/lib/python3.7/dist-packages/ipykernel_launcher.py:6: DeprecationWarning: executable_path has been deprecated, please pass in a Service object\n",
            "  \n"
          ]
        },
        {
          "output_type": "stream",
          "name": "stdout",
          "text": [
            "画面を開きました\n"
          ]
        }
      ]
    },
    {
      "cell_type": "code",
      "source": [
        ""
      ],
      "metadata": {
        "id": "TADcd40faztF"
      },
      "execution_count": null,
      "outputs": []
    }
  ]
}